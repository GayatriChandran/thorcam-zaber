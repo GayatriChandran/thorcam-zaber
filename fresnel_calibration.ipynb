{
 "cells": [
  {
   "cell_type": "code",
   "execution_count": 2,
   "metadata": {},
   "outputs": [],
   "source": [
    "import numpy as np\n",
    "import matplotlib.pyplot as plt\n",
    "import pandas as pd\n",
    "from scipy.optimize import curve_fit\n",
    "import pypolar.fresnel as fresnel\n",
    "from scipy.signal import find_peaks, peak_prominences\n",
    "%config InlineBackend.figure_format = 'retina'"
   ]
  },
  {
   "cell_type": "code",
   "execution_count": null,
   "metadata": {},
   "outputs": [],
   "source": [
    "file_name = 'data/09-14-2024/refl-air-09-14-2024-01.csv'                                   # Input file name\n",
    "df = pd.read_csv(file_name)\n",
    "# Plot curve\n",
    "df.plot(x=\"Stage\", y=\"Intensity\", alpha=0.5, style='.-')                                      # Plot\n",
    "plt.show()"
   ]
  },
  {
   "cell_type": "code",
   "execution_count": null,
   "metadata": {},
   "outputs": [],
   "source": [
    "# Find EPI position\n",
    "# 1. Clip the midle part :\n",
    "x = df['Intensity'].to_numpy()\n",
    "peaks_pos, _ = find_peaks(x, prominence=0.5)\n",
    "\n",
    "# Check prominences if this doesn't work :\n",
    "# prominences = peak_prominences(x, peaks_pos)[0]\n",
    "# print(prominences)\n",
    "\n",
    "epi_peak = peaks_pos[(df['Stage'][peaks_pos[:]] >= 4) & (df['Stage'][peaks_pos[:]] <= 6)]\n",
    "df.plot(x=\"Stage\", y=\"Intensity\", alpha=0.5, style='.-')\n",
    "plt.plot(df['Stage'][epi_peak[:]], df['Intensity'][epi_peak[:]], \"x\")\n",
    "plt.title('EPI position')\n",
    "print(df.iloc[epi_peak[:]])"
   ]
  },
  {
   "cell_type": "code",
   "execution_count": null,
   "metadata": {},
   "outputs": [],
   "source": [
    "# Step 2 : Crop the original curve from one end to epi\n",
    "df_crop = df.iloc[2:epi_peak[0]+1]\n",
    "# Plot cropped curve\n",
    "# df_crop.plot(x=\"Stage\", y=\"Intensity\", alpha=0.5, style='.-')                                       # Plot\n",
    "# plt.show()\n",
    "\n",
    "# Normalize array \n",
    "arr = df_crop['Intensity'].to_numpy()\n",
    "normalized_arr = (arr - arr.min()) / (arr.max() - arr.min())\n",
    "plt.plot(df_crop['Stage'],np.flip(normalized_arr), '.-', alpha=0.5)"
   ]
  },
  {
   "cell_type": "code",
   "execution_count": 6,
   "metadata": {},
   "outputs": [],
   "source": [
    "# Step 3 : Plot fresnel relation for irradiance.\n",
    "n1 = 1.51   # refractive index of glass\n",
    "n2 = 1.0    # refractive index of air"
   ]
  },
  {
   "cell_type": "code",
   "execution_count": 7,
   "metadata": {},
   "outputs": [],
   "source": [
    "stage_pos = df_crop['Stage'].to_numpy()\n",
    "stage_interp = np.linspace(stage_pos.min(),stage_pos.max(),200)\n",
    "y_data = np.flip(normalized_arr)\n",
    "y_interp = np.interp(stage_interp, stage_pos, y_data)\n",
    "# plt.plot(stage_interp, y_interp, '.-', label='Data')\n"
   ]
  },
  {
   "cell_type": "code",
   "execution_count": null,
   "metadata": {},
   "outputs": [],
   "source": [
    "# Find minima\n",
    "min_index = np.argmin(y_interp)\n",
    "x_min = stage_interp[min_index]\n",
    "\n",
    "\n",
    "print(\"Index of global minimum:\", min_index)\n",
    "print(\"X value at global minimum:\", x_min)\n",
    "print(\"Y value at global minimum:\", y_interp[min_index])\n",
    "\n",
    "# brewsters_angle = fresnel.brewster(1.515, n_i=1.00028460, deg=True)\n",
    "brewsters_angle = fresnel.brewster(1.00028460, n_i=1.515, deg=True)\n",
    "\n",
    "print(\"Brewster's angle for this interface (deg): \", brewsters_angle)\n",
    "print(\"Critical angle for this interface (deg): \", fresnel.critical(n2, n_i=n1, deg=True))"
   ]
  },
  {
   "cell_type": "code",
   "execution_count": null,
   "metadata": {},
   "outputs": [],
   "source": [
    "new_x_half,step_size = np.linspace(0.0,brewsters_angle,min_index, retstep=True)\n",
    "plt.plot(new_x_half, y_interp[0:111], '.-', label='Data')"
   ]
  },
  {
   "cell_type": "code",
   "execution_count": null,
   "metadata": {},
   "outputs": [],
   "source": [
    "print(len(y_interp)-min_index)\n",
    "ini_pt = brewsters_angle+step_size\n",
    "end_pt = 85.0\n",
    "new_x_other_half = np.arange(ini_pt, end_pt, step_size)\n",
    "print(len(new_x_other_half[0:len(y_interp)-min_index]))\n",
    "\n",
    "# Concatenate the two arrays\n",
    "new_x_half\n",
    "new_x_other_half[0:len(y_interp)-min_index]\n",
    "\n",
    "new_x = np.concatenate((new_x_half, new_x_other_half[0:len(y_interp)-min_index]))"
   ]
  },
  {
   "cell_type": "code",
   "execution_count": null,
   "metadata": {},
   "outputs": [],
   "source": [
    "plt.plot(new_x, y_interp, '.-', label='Data')"
   ]
  },
  {
   "cell_type": "code",
   "execution_count": null,
   "metadata": {},
   "outputs": [],
   "source": [
    "def func(x, a,b):\n",
    "    ang = x+b\n",
    "    return a*fresnel.R_par(n2, ang, n_i=n1, deg=True)\n",
    "\n",
    "popt, pcov = curve_fit(func, new_x[0:120], y_interp[0:120])\n",
    "print(popt)"
   ]
  },
  {
   "cell_type": "code",
   "execution_count": null,
   "metadata": {},
   "outputs": [],
   "source": [
    "y_fresnel = fresnel.R_par(n2, new_x, n_i=n1, deg=True)\n",
    "\n",
    "plt.plot(new_x, y_interp, '.-', label='Data')\n",
    "plt.plot(new_x+0.19520471, func(new_x,*popt), '.-', label='Fit')\n",
    "plt.plot(new_x, y_fresnel, 'r.-', label='Fresnel')\n",
    "plt.ylim([0,1.0])\n",
    "plt.legend()"
   ]
  },
  {
   "cell_type": "code",
   "execution_count": null,
   "metadata": {},
   "outputs": [],
   "source": [
    "calibration_angles = new_x+0.19520471\n",
    "stage_interp\n",
    "plt.plot(stage_interp, np.flip(calibration_angles), '.-', label='Angles')\n",
    "plt.title('Incident angle vs position')"
   ]
  },
  {
   "cell_type": "code",
   "execution_count": null,
   "metadata": {},
   "outputs": [],
   "source": [
    "data = np.column_stack((stage_interp, np.flip(calibration_angles), y_interp, y_fresnel))\n",
    "df2 = pd.DataFrame({'Stage': data[:, 0], 'Angle': data[:, 1], 'Data': data[:, 2], 'Fresnel': data[:, 3]})\n",
    "# file_name = 'data/09-14-2024/air-calibration.csv'\n",
    "# df2.to_csv(file_name, index=False)"
   ]
  },
  {
   "cell_type": "code",
   "execution_count": null,
   "metadata": {},
   "outputs": [],
   "source": []
  }
 ],
 "metadata": {
  "kernelspec": {
   "display_name": "imaging",
   "language": "python",
   "name": "python3"
  },
  "language_info": {
   "codemirror_mode": {
    "name": "ipython",
    "version": 3
   },
   "file_extension": ".py",
   "mimetype": "text/x-python",
   "name": "python",
   "nbconvert_exporter": "python",
   "pygments_lexer": "ipython3",
   "version": "3.10.9"
  }
 },
 "nbformat": 4,
 "nbformat_minor": 2
}
